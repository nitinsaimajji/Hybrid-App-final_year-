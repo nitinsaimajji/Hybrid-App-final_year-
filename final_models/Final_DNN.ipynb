{
 "cells": [
  {
   "cell_type": "code",
   "execution_count": 105,
   "id": "1600638b-09e0-4164-9165-a06808d7ce97",
   "metadata": {},
   "outputs": [],
   "source": [
    "import pandas as pd\n",
    "import numpy as np\n",
    "import re\n",
    "from keras.models import load_model\n",
    "import tensorflow as tf\n",
    "import nltk\n",
    "from nltk.corpus import stopwords\n",
    "from nltk.stem import PorterStemmer\n",
    "from spellchecker import SpellChecker\n",
    "from sklearn.model_selection import train_test_split\n",
    "from transformers import BertTokenizer, TFBertForSequenceClassification\n",
    "from tensorflow.keras.preprocessing.sequence import pad_sequences\n",
    "import matplotlib.pyplot as plt\n",
    "\n",
    "from tensorflow.keras.preprocessing.text import Tokenizer\n",
    "from tensorflow.keras.preprocessing.sequence import pad_sequences\n",
    "from nltk.corpus import stopwords\n",
    "from nltk.stem import PorterStemmer\n",
    "import string\n",
    "import re\n",
    "from tensorflow.keras.models import Sequential\n",
    "from tensorflow.keras.layers import Embedding, Flatten, Dense, Dropout, LSTM, Bidirectional\n",
    "from tensorflow.keras.optimizers import Adam\n",
    "from tensorflow.keras.callbacks import EarlyStopping\n",
    "from tensorflow.keras.preprocessing.text import Tokenizer\n",
    "from tensorflow.keras.preprocessing.sequence import pad_sequences\n",
    "import pandas as pd\n",
    "from sklearn.model_selection import train_test_split\n",
    "from sklearn.preprocessing import LabelEncoder\n",
    "from scikeras.wrappers import KerasClassifier, KerasRegressor\n",
    "from sklearn.model_selection import GridSearchCV\n",
    "\n",
    "\n",
    "# Load data\n",
    "train_data = pd.read_csv('final_train.csv')\n",
    "test_data = pd.read_csv('final_test.csv')\n"
   ]
  },
  {
   "cell_type": "code",
   "execution_count": 106,
   "id": "4fc29fb8-c951-471f-83f5-478734eb2171",
   "metadata": {},
   "outputs": [
    {
     "data": {
      "text/html": [
       "<div>\n",
       "<style scoped>\n",
       "    .dataframe tbody tr th:only-of-type {\n",
       "        vertical-align: middle;\n",
       "    }\n",
       "\n",
       "    .dataframe tbody tr th {\n",
       "        vertical-align: top;\n",
       "    }\n",
       "\n",
       "    .dataframe thead th {\n",
       "        text-align: right;\n",
       "    }\n",
       "</style>\n",
       "<table border=\"1\" class=\"dataframe\">\n",
       "  <thead>\n",
       "    <tr style=\"text-align: right;\">\n",
       "      <th></th>\n",
       "      <th>text</th>\n",
       "      <th>new_label</th>\n",
       "    </tr>\n",
       "  </thead>\n",
       "  <tbody>\n",
       "    <tr>\n",
       "      <th>0</th>\n",
       "      <td>@rubn_ak @asissa825</td>\n",
       "      <td>not_bully-Spam</td>\n",
       "    </tr>\n",
       "    <tr>\n",
       "      <th>1</th>\n",
       "      <td>nigga u wanna get put on an amber alert?</td>\n",
       "      <td>bully-Ham</td>\n",
       "    </tr>\n",
       "    <tr>\n",
       "      <th>2</th>\n",
       "      <td>As soon as I heard the joke, I dropped my four...</td>\n",
       "      <td>bully-Ham</td>\n",
       "    </tr>\n",
       "    <tr>\n",
       "      <th>3</th>\n",
       "      <td>The man who wrote it.</td>\n",
       "      <td>not_bully-Ham</td>\n",
       "    </tr>\n",
       "    <tr>\n",
       "      <th>4</th>\n",
       "      <td>This doesn't require rhetoric.</td>\n",
       "      <td>bully-Ham</td>\n",
       "    </tr>\n",
       "  </tbody>\n",
       "</table>\n",
       "</div>"
      ],
      "text/plain": [
       "                                                text       new_label\n",
       "0                                @rubn_ak @asissa825  not_bully-Spam\n",
       "1           nigga u wanna get put on an amber alert?       bully-Ham\n",
       "2  As soon as I heard the joke, I dropped my four...       bully-Ham\n",
       "3                              The man who wrote it.   not_bully-Ham\n",
       "4                     This doesn't require rhetoric.       bully-Ham"
      ]
     },
     "execution_count": 106,
     "metadata": {},
     "output_type": "execute_result"
    }
   ],
   "source": [
    "test_data.head()"
   ]
  },
  {
   "cell_type": "code",
   "execution_count": 107,
   "id": "e3ecf0f9-a91c-401e-8aec-1c40e84f2beb",
   "metadata": {},
   "outputs": [],
   "source": [
    "# Tokenize text\n",
    "tokenizer = Tokenizer()\n",
    "tokenizer.fit_on_texts(train_data['text'])\n",
    "\n",
    "X_train = tokenizer.texts_to_sequences(train_data['text'])\n",
    "X_test = tokenizer.texts_to_sequences(test_data['text'])\n",
    "\n",
    "# Pad sequences\n",
    "maxlen = 100  # adjust as needed\n",
    "X_train = pad_sequences(X_train, padding='post', maxlen=maxlen)\n",
    "X_test = pad_sequences(X_test, padding='post', maxlen=maxlen)\n",
    "\n",
    "# Encode labels\n",
    "label_mapping = {\n",
    "    'bully-Spam': 0,\n",
    "    'not_bully-Spam': 1,\n",
    "    'bully-Ham': 2,\n",
    "    'not_bully-Ham': 3\n",
    "}\n",
    "y_train = train_data['new_label'].map(label_mapping)\n",
    "y_test = test_data['new_label'].map(label_mapping)"
   ]
  },
  {
   "cell_type": "code",
   "execution_count": 108,
   "id": "0cf9d17d-6143-40d3-9e5c-35d2ecbed9cc",
   "metadata": {},
   "outputs": [
    {
     "name": "stdout",
     "output_type": "stream",
     "text": [
      "Epoch 1/15\n",
      "40/40 [==============================] - 1s 14ms/step - loss: 0.9929 - accuracy: 0.5115 - val_loss: 1.1171 - val_accuracy: 0.1560\n",
      "Epoch 2/15\n",
      "40/40 [==============================] - 0s 9ms/step - loss: 0.7527 - accuracy: 0.6630 - val_loss: 0.7898 - val_accuracy: 0.7943\n",
      "Epoch 3/15\n",
      "40/40 [==============================] - 0s 9ms/step - loss: 0.5830 - accuracy: 0.8279 - val_loss: 0.6329 - val_accuracy: 0.8227\n",
      "Epoch 4/15\n",
      "40/40 [==============================] - 0s 9ms/step - loss: 0.3757 - accuracy: 0.9151 - val_loss: 0.5949 - val_accuracy: 0.7589\n",
      "Epoch 5/15\n",
      "40/40 [==============================] - 0s 9ms/step - loss: 0.2321 - accuracy: 0.9445 - val_loss: 0.5097 - val_accuracy: 0.8369\n",
      "Epoch 6/15\n",
      "40/40 [==============================] - 0s 9ms/step - loss: 0.1402 - accuracy: 0.9659 - val_loss: 0.4869 - val_accuracy: 0.8298\n",
      "Epoch 7/15\n",
      "40/40 [==============================] - 0s 9ms/step - loss: 0.0905 - accuracy: 0.9754 - val_loss: 0.4481 - val_accuracy: 0.8582\n",
      "Epoch 8/15\n",
      "40/40 [==============================] - 0s 10ms/step - loss: 0.0609 - accuracy: 0.9897 - val_loss: 0.4299 - val_accuracy: 0.8652\n",
      "Epoch 9/15\n",
      "40/40 [==============================] - 0s 9ms/step - loss: 0.0408 - accuracy: 0.9937 - val_loss: 0.5477 - val_accuracy: 0.7872\n",
      "Epoch 10/15\n",
      "40/40 [==============================] - 0s 9ms/step - loss: 0.0293 - accuracy: 0.9944 - val_loss: 0.4323 - val_accuracy: 0.8582\n",
      "Epoch 11/15\n",
      "40/40 [==============================] - 0s 9ms/step - loss: 0.0194 - accuracy: 0.9968 - val_loss: 0.6224 - val_accuracy: 0.7518\n",
      "Epoch 12/15\n",
      "40/40 [==============================] - 0s 9ms/step - loss: 0.0153 - accuracy: 0.9976 - val_loss: 0.4867 - val_accuracy: 0.8440\n",
      "Epoch 13/15\n",
      "40/40 [==============================] - 0s 9ms/step - loss: 0.0116 - accuracy: 0.9984 - val_loss: 0.4607 - val_accuracy: 0.8440\n",
      "Epoch 14/15\n",
      "40/40 [==============================] - 0s 9ms/step - loss: 0.0090 - accuracy: 1.0000 - val_loss: 0.5670 - val_accuracy: 0.8227\n",
      "Epoch 15/15\n",
      "40/40 [==============================] - 0s 9ms/step - loss: 0.0069 - accuracy: 1.0000 - val_loss: 0.4896 - val_accuracy: 0.8369\n"
     ]
    }
   ],
   "source": [
    "# Build DNN model\n",
    "model = Sequential()\n",
    "model.add(Embedding(input_dim=len(tokenizer.word_index)+1, output_dim=50, input_length=maxlen))\n",
    "model.add(Flatten())\n",
    "model.add(Dense(64, activation='relu'))\n",
    "model.add(Dense(4, activation='softmax'))\n",
    "\n",
    "model.compile(optimizer='adam', loss='sparse_categorical_crossentropy', metrics=['accuracy'])\n",
    "\n",
    "# Train DNN model\n",
    "history=model.fit(X_train, y_train, epochs=15, batch_size=32, validation_split=0.1)\n"
   ]
  },
  {
   "cell_type": "code",
   "execution_count": 109,
   "id": "9579d57d-843a-4d86-b866-1b93a5c249d0",
   "metadata": {},
   "outputs": [
    {
     "name": "stdout",
     "output_type": "stream",
     "text": [
      "14/14 [==============================] - 0s 3ms/step\n",
      "DNN Classification Report:\n",
      "              precision    recall  f1-score   support\n",
      "\n",
      "           0       0.91      1.00      0.95        10\n",
      "           1       0.90      0.83      0.86       115\n",
      "           2       0.77      0.84      0.80       102\n",
      "           3       0.84      0.83      0.83       199\n",
      "\n",
      "    accuracy                           0.84       426\n",
      "   macro avg       0.85      0.87      0.86       426\n",
      "weighted avg       0.84      0.84      0.84       426\n",
      "\n"
     ]
    }
   ],
   "source": [
    "# Evaluate DNN model\n",
    "from sklearn.metrics import classification_report\n",
    "predictions = model.predict(X_test)\n",
    "y_pred = predictions.argmax(axis=1)\n",
    "print(\"DNN Classification Report:\")\n",
    "print(classification_report(y_test, y_pred))"
   ]
  },
  {
   "cell_type": "code",
   "execution_count": 110,
   "id": "14bccaf8-a416-46da-aea3-945757100d7f",
   "metadata": {},
   "outputs": [
    {
     "data": {
      "image/png": "[encoded data removed]",
      "text/plain": [
       "<Figure size 640x480 with 1 Axes>"
      ]
     },
     "metadata": {},
     "output_type": "display_data"
    },
    {
     "data": {
      "image/png": "[encoded data removed]",
      "text/plain": [
       "<Figure size 640x480 with 1 Axes>"
      ]
     },
     "metadata": {},
     "output_type": "display_data"
    }
   ],
   "source": [
    "# Plot training & validation accuracy values\n",
    "plt.plot(history.history['accuracy'])\n",
    "plt.plot(history.history['val_accuracy'])\n",
    "plt.title('Model accuracy')\n",
    "plt.xlabel('Epoch')\n",
    "plt.ylabel('Accuracy')\n",
    "plt.legend(['Train', 'Validation'], loc='upper left')\n",
    "plt.show()\n",
    "\n",
    "# Plot training & validation loss values\n",
    "plt.plot(history.history['loss'])\n",
    "plt.plot(history.history['val_loss'])\n",
    "plt.title('Model loss')\n",
    "plt.xlabel('Epoch')\n",
    "plt.ylabel('Loss')\n",
    "plt.legend(['Train', 'Validation'], loc='upper left')\n",
    "plt.show()"
   ]
  },
  {
   "cell_type": "code",
   "execution_count": 92,
   "id": "b30feee6-8de7-4753-bb61-880697e59cc4",
   "metadata": {},
   "outputs": [],
   "source": [
    "saved_model = load_model(\"final_dnn.h5\")"
   ]
  },
  {
   "cell_type": "code",
   "execution_count": 93,
   "id": "d5130e3d-bdb6-4571-8cd4-518d31accbbb",
   "metadata": {},
   "outputs": [
    {
     "name": "stdout",
     "output_type": "stream",
     "text": [
      "1/1 [==============================] - 0s 96ms/step\n",
      "Predicted label for the new text: bully-Spam\n"
     ]
    }
   ],
   "source": [
    "\n",
    "import numpy as np\n",
    "\n",
    "# Preprocess new text\n",
    "new_text = \"This nigger has no whores, no band, no whores can work in strip clubs, sometimes strip clubs.\"\n",
    "new_text_sequence = tokenizer.texts_to_sequences([new_text])\n",
    "new_text_padded = pad_sequences(new_text_sequence, padding='post', maxlen=maxlen)\n",
    "\n",
    "# Make predictions on new text\n",
    "new_text_prediction = saved_model.predict(new_text_padded)\n",
    "predicted_label = np.argmax(new_text_prediction)\n",
    "\n",
    "# Map predicted label back to original label\n",
    "reverse_label_mapping = {v: k for k, v in label_mapping.items()}\n",
    "predicted_label_text = reverse_label_mapping[predicted_label]\n",
    "\n",
    "print(\"Predicted label for the new text:\", predicted_label_text)\n"
   ]
  },
  {
   "cell_type": "code",
   "execution_count": null,
   "id": "58ac7580-3a74-449f-ae20-2474ccd1bc32",
   "metadata": {},
   "outputs": [],
   "source": []
  },
  {
   "cell_type": "code",
   "execution_count": 97,
   "id": "a5d49811-3494-4e53-a272-72c82e116b80",
   "metadata": {},
   "outputs": [],
   "source": [
    "# Tokenize text\n",
    "\n",
    "# Load data\n",
    "train_data = pd.read_csv('final_train.csv')\n",
    "test_data = pd.read_csv('final_test.csv')\n",
    "tokenizer = Tokenizer()\n",
    "tokenizer.fit_on_texts(train_data['text'])\n",
    "\n",
    "X_train = tokenizer.texts_to_sequences(train_data['text'])\n",
    "X_test = tokenizer.texts_to_sequences(test_data['text'])\n",
    "\n",
    "# Pad sequences\n",
    "maxlen = 100  # adjust as needed\n",
    "X_train = pad_sequences(X_train, padding='post', maxlen=maxlen)\n",
    "X_test = pad_sequences(X_test, padding='post', maxlen=maxlen)\n",
    "\n",
    "# Encode labels\n",
    "label_mapping = {\n",
    "    'bully-Spam': 0,\n",
    "    'not_bully-Spam': 1,\n",
    "    'bully-Ham': 2,\n",
    "    'not_bully-Ham': 3\n",
    "}\n",
    "y_train = train_data['new_label'].map(label_mapping)\n",
    "y_test = test_data['new_label'].map(label_mapping)"
   ]
  },
  {
   "cell_type": "code",
   "execution_count": null,
   "id": "88921293-17a9-45e3-bf44-3ef397528956",
   "metadata": {},
   "outputs": [],
   "source": []
  },
  {
   "cell_type": "code",
   "execution_count": 98,
   "id": "ef63d153-543e-4e44-b562-cb5b5820fc96",
   "metadata": {},
   "outputs": [
    {
     "name": "stderr",
     "output_type": "stream",
     "text": [
      "C:\\Users\\nitin\\AppData\\Local\\Programs\\Python\\Python310\\lib\\site-packages\\keras\\optimizers\\optimizer_v2\\rmsprop.py:140: UserWarning: The `lr` argument is deprecated, use `learning_rate` instead.\n",
      "  super().__init__(name, **kwargs)\n",
      "C:\\Users\\nitin\\AppData\\Local\\Programs\\Python\\Python310\\lib\\site-packages\\keras\\optimizers\\optimizer_v2\\adadelta.py:79: UserWarning: The `lr` argument is deprecated, use `learning_rate` instead.\n",
      "  super().__init__(name, **kwargs)\n",
      "C:\\Users\\nitin\\AppData\\Local\\Programs\\Python\\Python310\\lib\\site-packages\\keras\\optimizers\\optimizer_v2\\nadam.py:86: UserWarning: The `lr` argument is deprecated, use `learning_rate` instead.\n",
      "  super().__init__(name, **kwargs)\n"
     ]
    },
    {
     "name": "stdout",
     "output_type": "stream",
     "text": [
      "14/14 [==============================] - 0s 3ms/step\n",
      "Report for rmsprop\n",
      "              precision    recall  f1-score   support\n",
      "\n",
      "           0       0.90      0.90      0.90        10\n",
      "           1       0.85      0.83      0.84       115\n",
      "           2       0.78      0.75      0.77       102\n",
      "           3       0.80      0.82      0.81       199\n",
      "\n",
      "    accuracy                           0.81       426\n",
      "   macro avg       0.83      0.83      0.83       426\n",
      "weighted avg       0.81      0.81      0.81       426\n",
      "\n",
      "14/14 [==============================] - 0s 3ms/step\n",
      "Report for adadelta\n",
      "              precision    recall  f1-score   support\n",
      "\n",
      "           0       1.00      0.30      0.46        10\n",
      "           1       0.75      0.82      0.78       115\n",
      "           2       0.76      0.74      0.75       102\n",
      "           3       0.77      0.77      0.77       199\n",
      "\n",
      "    accuracy                           0.76       426\n",
      "   macro avg       0.82      0.66      0.69       426\n",
      "weighted avg       0.77      0.76      0.76       426\n",
      "\n",
      "14/14 [==============================] - 0s 4ms/step\n",
      "Report for nadam\n",
      "              precision    recall  f1-score   support\n",
      "\n",
      "           0       1.00      0.90      0.95        10\n",
      "           1       0.86      0.85      0.86       115\n",
      "           2       0.64      0.87      0.74       102\n",
      "           3       0.83      0.68      0.75       199\n",
      "\n",
      "    accuracy                           0.78       426\n",
      "   macro avg       0.83      0.83      0.82       426\n",
      "weighted avg       0.80      0.78      0.78       426\n",
      "\n"
     ]
    }
   ],
   "source": [
    "from sklearn.metrics import classification_report\n",
    "from tensorflow.keras.models import Sequential\n",
    "from tensorflow.keras.layers import Embedding, Flatten, Dense\n",
    "from tensorflow.keras.optimizers import SGD, RMSprop, Adagrad, Adadelta, Nadam\n",
    "import pandas as pd\n",
    "\n",
    "# Define a list of optimizers to try along with their learning rates\n",
    "optimizers = {\n",
    "    'rmsprop': RMSprop(lr=0.001),\n",
    "    'adadelta': Adadelta(lr=1.0),\n",
    "    'nadam': Nadam(lr=0.002)\n",
    "}\n",
    "\n",
    "report_dfs = []\n",
    "\n",
    "# DataFrame to store all reports\n",
    "report_df = pd.DataFrame(columns=['Optimizer', 'Learning Rate', 'Class', 'Precision', 'Recall', 'F1-score', 'Support'])\n",
    "\n",
    "# Loop over each optimizer\n",
    "for optimizer_name in optimizers:\n",
    "    # Build DNN model\n",
    "    model = Sequential()\n",
    "    model.add(Embedding(input_dim=len(tokenizer.word_index)+1, output_dim=50, input_length=maxlen))\n",
    "    model.add(Flatten())\n",
    "    model.add(Dense(64, activation='relu'))\n",
    "    model.add(Dense(4, activation='softmax'))\n",
    "    model.compile(optimizer=optimizers[optimizer_name], loss='sparse_categorical_crossentropy', metrics=['accuracy'])\n",
    "\n",
    "    # Train the model\n",
    "    history = model.fit(X_train, y_train, epochs=10, batch_size=32, validation_split=0.2, verbose=0)\n",
    "    \n",
    "    # Evaluate on the test set\n",
    "    predictions = model.predict(X_test)\n",
    "    y_pred = predictions.argmax(axis=1)\n",
    "    \n",
    "    # Generate classification report\n",
    "    print(\"Report for\",optimizer_name)\n",
    "    print(classification_report(y_test, y_pred))"
   ]
  },
  {
   "cell_type": "code",
   "execution_count": null,
   "id": "93176e81-3075-4dd9-90dc-63f7b817543e",
   "metadata": {},
   "outputs": [],
   "source": []
  }
 ],
 "metadata": {
  "kernelspec": {
   "display_name": "Python 3 (ipykernel)",
   "language": "python",
   "name": "python3"
  },
  "language_info": {
   "codemirror_mode": {
    "name": "ipython",
    "version": 3
   },
   "file_extension": ".py",
   "mimetype": "text/x-python",
   "name": "python",
   "nbconvert_exporter": "python",
   "pygments_lexer": "ipython3",
   "version": "3.10.0"
  }
 },
 "nbformat": 4,
 "nbformat_minor": 5
}
