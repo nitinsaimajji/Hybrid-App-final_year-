{
 "cells": [
  {
   "cell_type": "code",
   "execution_count": 1,
   "id": "d0ea70b3-e59c-4024-9bfb-13530c489e33",
   "metadata": {},
   "outputs": [],
   "source": [
    "import pandas as pd\n"
   ]
  },
  {
   "cell_type": "code",
   "execution_count": 3,
   "id": "a7c3190d-4eb7-4fa9-8e91-f467ab1b332a",
   "metadata": {},
   "outputs": [],
   "source": [
    "df=pd.read_csv('new1_cyber_train.csv')\n",
    "df['label']=df['label'].map({0:'Bully',1:'Not Bully'})"
   ]
  },
  {
   "cell_type": "code",
   "execution_count": 5,
   "id": "401a8f7c-056c-47b6-aac1-1d218aa2139a",
   "metadata": {},
   "outputs": [],
   "source": [
    "df.to_csv('show.csv',index=False)"
   ]
  },
  {
   "cell_type": "code",
   "execution_count": null,
   "id": "0ce9fea6-98ad-40b3-b32a-5f83c67a3bfc",
   "metadata": {},
   "outputs": [],
   "source": []
  }
 ],
 "metadata": {
  "kernelspec": {
   "display_name": "Python 3 (ipykernel)",
   "language": "python",
   "name": "python3"
  },
  "language_info": {
   "codemirror_mode": {
    "name": "ipython",
    "version": 3
   },
   "file_extension": ".py",
   "mimetype": "text/x-python",
   "name": "python",
   "nbconvert_exporter": "python",
   "pygments_lexer": "ipython3",
   "version": "3.10.0"
  }
 },
 "nbformat": 4,
 "nbformat_minor": 5
}
