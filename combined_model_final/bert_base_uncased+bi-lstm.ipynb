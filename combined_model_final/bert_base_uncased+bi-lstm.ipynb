{
 "cells": [
  {
   "cell_type": "code",
   "execution_count": 1,
   "id": "f184b574-3a72-40ba-89cf-1689fd406d23",
   "metadata": {},
   "outputs": [],
   "source": [
    "import pandas as pd\n",
    "import numpy as np\n",
    "import tensorflow as tf\n",
    "from transformers import BertTokenizer, TFBertModel\n",
    "from tensorflow.keras.layers import Input, Dense, Bidirectional, LSTM, GlobalAveragePooling1D\n",
    "from tensorflow.keras.models import Model\n",
    "from sklearn.model_selection import train_test_split\n",
    "\n",
    "# Load the dataset\n",
    "train_data = pd.read_csv('final_train.csv')\n",
    "test_data = pd.read_csv('final_test.csv')\n",
    "\n"
   ]
  },
  {
   "cell_type": "code",
   "execution_count": 2,
   "id": "659f9b09-4984-4dda-85fc-953c466c7501",
   "metadata": {},
   "outputs": [
    {
     "name": "stderr",
     "output_type": "stream",
     "text": [
      "Some weights of the PyTorch model were not used when initializing the TF 2.0 model TFBertModel: ['cls.predictions.bias', 'cls.predictions.transform.LayerNorm.weight', 'cls.seq_relationship.weight', 'cls.seq_relationship.bias', 'cls.predictions.transform.dense.bias', 'cls.predictions.transform.LayerNorm.bias', 'cls.predictions.transform.dense.weight']\n",
      "- This IS expected if you are initializing TFBertModel from a PyTorch model trained on another task or with another architecture (e.g. initializing a TFBertForSequenceClassification model from a BertForPreTraining model).\n",
      "- This IS NOT expected if you are initializing TFBertModel from a PyTorch model that you expect to be exactly identical (e.g. initializing a TFBertForSequenceClassification model from a BertForSequenceClassification model).\n",
      "All the weights of TFBertModel were initialized from the PyTorch model.\n",
      "If your task is similar to the task the model of the checkpoint was trained on, you can already use TFBertModel for predictions without further training.\n"
     ]
    },
    {
     "name": "stdout",
     "output_type": "stream",
     "text": [
      "Epoch 1/5\n",
      "WARNING:tensorflow:Gradients do not exist for variables ['tf_bert_model/bert/pooler/dense/kernel:0', 'tf_bert_model/bert/pooler/dense/bias:0'] when minimizing the loss. If you're using `model.compile()`, did you forget to provide a `loss` argument?\n",
      "WARNING:tensorflow:Gradients do not exist for variables ['tf_bert_model/bert/pooler/dense/kernel:0', 'tf_bert_model/bert/pooler/dense/bias:0'] when minimizing the loss. If you're using `model.compile()`, did you forget to provide a `loss` argument?\n",
      "79/79 [==============================] - 358s 4s/step - loss: 0.7257 - accuracy: 0.7272 - val_loss: 0.3581 - val_accuracy: 0.9220\n",
      "Epoch 2/5\n",
      "79/79 [==============================] - 343s 4s/step - loss: 0.3440 - accuracy: 0.8898 - val_loss: 0.2275 - val_accuracy: 0.9362\n",
      "Epoch 3/5\n",
      "79/79 [==============================] - 345s 4s/step - loss: 0.1674 - accuracy: 0.9532 - val_loss: 0.2147 - val_accuracy: 0.9291\n",
      "Epoch 4/5\n",
      "79/79 [==============================] - 344s 4s/step - loss: 0.0846 - accuracy: 0.9794 - val_loss: 0.0901 - val_accuracy: 0.9716\n",
      "Epoch 5/5\n",
      "79/79 [==============================] - 343s 4s/step - loss: 0.0551 - accuracy: 0.9857 - val_loss: 0.0649 - val_accuracy: 0.9787\n"
     ]
    }
   ],
   "source": [
    "# Tokenize text data using BERT tokenizer\n",
    "tokenizer = BertTokenizer.from_pretrained('bert-base-uncased')\n",
    "max_len = 100  # Maximum sequence length\n",
    "X_train_text = tokenizer(train_data['text'].tolist(), padding='max_length', truncation=True, max_length=max_len, return_tensors='tf')\n",
    "X_test_text = tokenizer(test_data['text'].tolist(), padding='max_length', truncation=True, max_length=max_len, return_tensors='tf')\n",
    "\n",
    "# Convert labels to numerical format\n",
    "label_mapping = {'bully-Spam': 0, 'not_bully-Spam': 1, 'bully-Ham': 2, 'not_bully-Ham': 3}\n",
    "y_train = train_data['new_label'].map(label_mapping)\n",
    "y_test = test_data['new_label'].map(label_mapping)\n",
    "\n",
    "# Define BERT model\n",
    "def build_bert_model():\n",
    "    input_ids = Input(shape=(max_len,), dtype=tf.int32, name=\"input_ids\")\n",
    "    token_type_ids = Input(shape=(max_len,), dtype=tf.int32, name=\"token_type_ids\")\n",
    "    attention_mask = Input(shape=(max_len,), dtype=tf.int32, name=\"attention_mask\")\n",
    "\n",
    "    bert_model = TFBertModel.from_pretrained(\"bert-base-uncased\")\n",
    "    bert_outputs = bert_model(input_ids, token_type_ids=token_type_ids, attention_mask=attention_mask)[0]\n",
    "\n",
    "    return Model(inputs=[input_ids, token_type_ids, attention_mask], outputs=bert_outputs)\n",
    "\n",
    "# Build BERT model\n",
    "bert_model = build_bert_model()\n",
    "\n",
    "# Combine BERT and Bi-LSTM models\n",
    "def build_combined_model(bert_model):\n",
    "    input_ids = Input(shape=(max_len,), dtype=tf.int32, name=\"input_ids\")\n",
    "    token_type_ids = Input(shape=(max_len,), dtype=tf.int32, name=\"token_type_ids\")\n",
    "    attention_mask = Input(shape=(max_len,), dtype=tf.int32, name=\"attention_mask\")\n",
    "\n",
    "    bert_output = bert_model([input_ids, token_type_ids, attention_mask])\n",
    "    \n",
    "    # Add Bi-LSTM layer\n",
    "    bi_lstm_output = Bidirectional(LSTM(128))(bert_output)\n",
    "    \n",
    "    output = Dense(4, activation='softmax')(bi_lstm_output)\n",
    "\n",
    "    return Model(inputs=[input_ids, token_type_ids, attention_mask], outputs=output)\n",
    "\n",
    "# Build combined model\n",
    "combined_model = build_combined_model(bert_model)\n",
    "\n",
    "# Compile combined model with a smaller learning rate\n",
    "optimizer = tf.keras.optimizers.Adam(learning_rate=1e-5)  # Adjust the learning rate as needed\n",
    "combined_model.compile(optimizer=optimizer, loss='sparse_categorical_crossentropy', metrics=['accuracy'])\n",
    "\n",
    "# Train combined model with a smaller batch size\n",
    "history = combined_model.fit(\n",
    "    [X_train_text['input_ids'], X_train_text['token_type_ids'], X_train_text['attention_mask']], \n",
    "    y_train, \n",
    "    epochs=5, \n",
    "    batch_size=16, \n",
    "    validation_split=0.1\n",
    ")\n"
   ]
  },
  {
   "cell_type": "code",
   "execution_count": 3,
   "id": "27118628-de7c-490b-842a-7be70a5bf73c",
   "metadata": {},
   "outputs": [
    {
     "name": "stdout",
     "output_type": "stream",
     "text": [
      "14/14 [==============================] - 34s 2s/step\n",
      "              precision    recall  f1-score   support\n",
      "\n",
      "           0       1.00      1.00      1.00        10\n",
      "           1       1.00      0.85      0.92       115\n",
      "           2       0.83      0.88      0.85       103\n",
      "           3       0.87      0.91      0.89       198\n",
      "\n",
      "    accuracy                           0.89       426\n",
      "   macro avg       0.92      0.91      0.92       426\n",
      "weighted avg       0.90      0.89      0.89       426\n",
      "\n"
     ]
    }
   ],
   "source": [
    "# Make predictions on test data\n",
    "predictions = combined_model.predict([X_test_text['input_ids'], X_test_text['token_type_ids'], X_test_text['attention_mask']])\n",
    "\n",
    "# Convert predicted probabilities to class labels\n",
    "predicted_labels = np.argmax(predictions, axis=1)\n",
    "\n",
    "# Evaluate the model\n",
    "from sklearn.metrics import classification_report\n",
    "\n",
    "# Convert test labels to numpy array\n",
    "y_test_np = np.array(y_test)\n",
    "\n",
    "# Print classification report\n",
    "print(classification_report(y_test_np, predicted_labels))\n"
   ]
  },
  {
   "cell_type": "code",
   "execution_count": null,
   "id": "80584747-0921-4671-a1e8-dec931bbece3",
   "metadata": {},
   "outputs": [],
   "source": []
  }
 ],
 "metadata": {
  "kernelspec": {
   "display_name": "Python 3 (ipykernel)",
   "language": "python",
   "name": "python3"
  },
  "language_info": {
   "codemirror_mode": {
    "name": "ipython",
    "version": 3
   },
   "file_extension": ".py",
   "mimetype": "text/x-python",
   "name": "python",
   "nbconvert_exporter": "python",
   "pygments_lexer": "ipython3",
   "version": "3.10.0"
  }
 },
 "nbformat": 4,
 "nbformat_minor": 5
}
