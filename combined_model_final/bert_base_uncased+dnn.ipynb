{
 "cells": [
  {
   "cell_type": "code",
   "execution_count": 40,
   "id": "9870a74d-045f-40e5-bf3e-7c2a139f56f1",
   "metadata": {},
   "outputs": [
    {
     "name": "stderr",
     "output_type": "stream",
     "text": [
      "Some weights of the PyTorch model were not used when initializing the TF 2.0 model TFBertModel: ['cls.predictions.transform.LayerNorm.bias', 'cls.predictions.transform.dense.weight', 'cls.predictions.transform.dense.bias', 'cls.predictions.transform.LayerNorm.weight', 'cls.seq_relationship.bias', 'cls.predictions.bias', 'cls.seq_relationship.weight']\n",
      "- This IS expected if you are initializing TFBertModel from a PyTorch model trained on another task or with another architecture (e.g. initializing a TFBertForSequenceClassification model from a BertForPreTraining model).\n",
      "- This IS NOT expected if you are initializing TFBertModel from a PyTorch model that you expect to be exactly identical (e.g. initializing a TFBertForSequenceClassification model from a BertForSequenceClassification model).\n",
      "All the weights of TFBertModel were initialized from the PyTorch model.\n",
      "If your task is similar to the task the model of the checkpoint was trained on, you can already use TFBertModel for predictions without further training.\n"
     ]
    },
    {
     "name": "stdout",
     "output_type": "stream",
     "text": [
      "Epoch 1/5\n",
      "79/79 [==============================] - 381s 5s/step - loss: 0.7168 - accuracy: 0.7058 - val_loss: 0.2834 - val_accuracy: 0.8936\n",
      "Epoch 2/5\n",
      "79/79 [==============================] - 353s 4s/step - loss: 0.2978 - accuracy: 0.8977 - val_loss: 0.1535 - val_accuracy: 0.9645\n",
      "Epoch 3/5\n",
      "79/79 [==============================] - 350s 4s/step - loss: 0.1549 - accuracy: 0.9540 - val_loss: 0.0828 - val_accuracy: 0.9716\n",
      "Epoch 4/5\n",
      "79/79 [==============================] - 350s 4s/step - loss: 0.0709 - accuracy: 0.9802 - val_loss: 0.2193 - val_accuracy: 0.9220\n",
      "Epoch 5/5\n",
      "79/79 [==============================] - 352s 4s/step - loss: 0.0338 - accuracy: 0.9921 - val_loss: 0.0583 - val_accuracy: 0.9787\n"
     ]
    }
   ],
   "source": [
    "import pandas as pd\n",
    "import numpy as np\n",
    "import tensorflow as tf\n",
    "from transformers import BertTokenizer, TFBertModel\n",
    "from tensorflow.keras.layers import Input, Dense, Concatenate, GlobalAveragePooling1D\n",
    "from tensorflow.keras.models import Model\n",
    "from sklearn.model_selection import train_test_split\n",
    "\n",
    "# Load the dataset\n",
    "train_data = pd.read_csv('final_train.csv')\n",
    "test_data = pd.read_csv('final_test.csv')\n",
    "\n",
    "# Tokenize text data using BERT tokenizer\n",
    "tokenizer = BertTokenizer.from_pretrained('bert-base-uncased')\n",
    "max_len = 100  # Maximum sequence length\n",
    "X_train_text = tokenizer(train_data['text'].tolist(), padding='max_length', truncation=True, max_length=max_len, return_tensors='tf')\n",
    "X_test_text = tokenizer(test_data['text'].tolist(), padding='max_length', truncation=True, max_length=max_len, return_tensors='tf')\n",
    "\n",
    "# Convert labels to numerical format\n",
    "label_mapping = {'bully-Spam': 0, 'not_bully-Spam': 1, 'bully-Ham': 2, 'not_bully-Ham': 3}\n",
    "y_train = train_data['new_label'].map(label_mapping)\n",
    "y_test = test_data['new_label'].map(label_mapping)\n",
    "\n",
    "# Define BERT model\n",
    "def build_bert_model():\n",
    "    input_ids = Input(shape=(max_len,), dtype=tf.int32, name=\"input_ids\")\n",
    "    token_type_ids = Input(shape=(max_len,), dtype=tf.int32, name=\"token_type_ids\")\n",
    "    attention_mask = Input(shape=(max_len,), dtype=tf.int32, name=\"attention_mask\")\n",
    "\n",
    "    bert_model = TFBertModel.from_pretrained(\"bert-base-uncased\")\n",
    "    bert_outputs = bert_model(input_ids, token_type_ids=token_type_ids, attention_mask=attention_mask)[0]\n",
    "\n",
    "    bert_pooled_output = GlobalAveragePooling1D()(bert_outputs)\n",
    "\n",
    "    return Model(inputs=[input_ids, token_type_ids, attention_mask], outputs=bert_pooled_output)\n",
    "\n",
    "# Build BERT model\n",
    "bert_model = build_bert_model()\n",
    "\n",
    "# Combine BERT and DNN models\n",
    "def build_combined_model(bert_model):\n",
    "    input_ids = Input(shape=(max_len,), dtype=tf.int32, name=\"input_ids\")\n",
    "    token_type_ids = Input(shape=(max_len,), dtype=tf.int32, name=\"token_type_ids\")\n",
    "    attention_mask = Input(shape=(max_len,), dtype=tf.int32, name=\"attention_mask\")\n",
    "\n",
    "    bert_output = bert_model([input_ids, token_type_ids, attention_mask])\n",
    "    \n",
    "    output = Dense(4, activation='softmax')(bert_output)\n",
    "\n",
    "    return Model(inputs=[input_ids, token_type_ids, attention_mask], outputs=output)\n",
    "\n",
    "# Build combined model\n",
    "combined_model = build_combined_model(bert_model)\n",
    "\n",
    "# Compile combined model with a smaller learning rate\n",
    "optimizer = tf.keras.optimizers.Adam(learning_rate=1e-5)  # Adjust the learning rate as needed\n",
    "combined_model.compile(optimizer=optimizer, loss='sparse_categorical_crossentropy', metrics=['accuracy'])\n",
    "\n",
    "# Train combined model with a smaller batch size\n",
    "history = combined_model.fit([X_train_text['input_ids'], X_train_text['token_type_ids'], X_train_text['attention_mask']], y_train, epochs=5, batch_size=16, validation_split=0.1)\n"
   ]
  },
  {
   "cell_type": "code",
   "execution_count": 41,
   "id": "bea73f6f-4a6f-41f0-8b4c-699263882d94",
   "metadata": {},
   "outputs": [
    {
     "name": "stdout",
     "output_type": "stream",
     "text": [
      "14/14 [==============================] - 38s 3s/step\n",
      "              precision    recall  f1-score   support\n",
      "\n",
      "           0       0.83      1.00      0.91        10\n",
      "           1       0.98      0.87      0.92       115\n",
      "           2       0.94      0.81      0.87       103\n",
      "           3       0.85      0.96      0.90       198\n",
      "\n",
      "    accuracy                           0.90       426\n",
      "   macro avg       0.90      0.91      0.90       426\n",
      "weighted avg       0.91      0.90      0.90       426\n",
      "\n"
     ]
    }
   ],
   "source": [
    "# Make predictions on test data\n",
    "predictions = combined_model.predict([X_test_text['input_ids'], X_test_text['token_type_ids'], X_test_text['attention_mask']])\n",
    "\n",
    "# Convert predicted probabilities to class labels\n",
    "predicted_labels = np.argmax(predictions, axis=1)\n",
    "\n",
    "# Evaluate the model\n",
    "from sklearn.metrics import classification_report\n",
    "\n",
    "# Convert test labels to numpy array\n",
    "y_test_np = np.array(y_test)\n",
    "\n",
    "# Print classification report\n",
    "print(classification_report(y_test_np, predicted_labels))\n"
   ]
  },
  {
   "cell_type": "code",
   "execution_count": null,
   "id": "1e750743-2a7c-4d56-884e-e47dd3e1b115",
   "metadata": {},
   "outputs": [],
   "source": []
  }
 ],
 "metadata": {
  "kernelspec": {
   "display_name": "Python 3 (ipykernel)",
   "language": "python",
   "name": "python3"
  },
  "language_info": {
   "codemirror_mode": {
    "name": "ipython",
    "version": 3
   },
   "file_extension": ".py",
   "mimetype": "text/x-python",
   "name": "python",
   "nbconvert_exporter": "python",
   "pygments_lexer": "ipython3",
   "version": "3.10.0"
  }
 },
 "nbformat": 4,
 "nbformat_minor": 5
}
